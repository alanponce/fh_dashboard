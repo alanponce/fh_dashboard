{
 "cells": [
  {
   "cell_type": "code",
   "execution_count": 1,
   "metadata": {},
   "outputs": [],
   "source": [
    "import pandas as pd "
   ]
  },
  {
   "cell_type": "code",
   "execution_count": 3,
   "metadata": {},
   "outputs": [],
   "source": [
    "\n",
    "from functions.functions_data import get_global_daily, get_rolling, get_rolling_values\n",
    "from functions.functions_graphics import plot_engagements_users, plot_metrics\n",
    "from functions.functions_data import get_engagement_list_v2\n"
   ]
  },
  {
   "cell_type": "code",
   "execution_count": 2,
   "metadata": {},
   "outputs": [],
   "source": [
    "#import the data\n",
    "def load_data():\n",
    "    #read the data\n",
    "    path_to_csv = \"data/data_20230606.csv\"\n",
    "    df = pd.read_csv(path_to_csv, parse_dates=['EventDateTime'], dtype={'CurrentPlatform': str,\n",
    "                                                                        'CurrentType': str,\n",
    "                                                                        'Platform': str,\n",
    "                                                                        'Version': str})\n",
    "    #change data type\n",
    "    df['EventDateTime'] = pd.to_datetime(df['EventDateTime'])\n",
    "\n",
    "    #Abreviaturas de los estados de USA\n",
    "    df_states = pd.read_csv(\"data/abreviaturas_USA.csv\")\n",
    "\n",
    "    return df, df_states\n",
    "\n",
    "#call the funcion load_data\n",
    "df, df_states = load_data()\n"
   ]
  },
  {
   "cell_type": "code",
   "execution_count": 25,
   "metadata": {},
   "outputs": [],
   "source": [
    "max_date = pd.to_datetime(df.EventDateTime.max())\n",
    "min_date = pd.to_datetime(df.EventDateTime.min())\n",
    "\n",
    "#this data is used in both plots\n",
    "engagement_list = get_engagement_list_v2(df = df, start_date= min_date, end_data= max_date  )\n",
    "\n",
    "#data for the plot\n",
    "global_metrics = get_global_daily(engagement_list)\n",
    "\n",
    "rolled = get_rolling(global_metrics,int(7), engagement_list)\n",
    "\n",
    "#plot \n",
    "fig = plot_engagements_users(rolled, str(7) +' days')"
   ]
  },
  {
   "cell_type": "code",
   "execution_count": 26,
   "metadata": {},
   "outputs": [
    {
     "data": {
      "application/vnd.plotly.v1+json": {
       "config": {
        "plotlyServerURL": "https://plot.ly"
       },
       "data": [
        {
         "line": {
          "color": "#33CFA5"
         },
         "name": "Engagements",
         "type": "scatter",
         "x": [
          "2023-03-15T00:00:00+00:00",
          "2023-03-16T00:00:00+00:00",
          "2023-03-17T00:00:00+00:00",
          "2023-03-18T00:00:00+00:00",
          "2023-03-19T00:00:00+00:00",
          "2023-03-20T00:00:00+00:00",
          "2023-03-21T00:00:00+00:00",
          "2023-03-22T00:00:00+00:00",
          "2023-03-23T00:00:00+00:00",
          "2023-03-24T00:00:00+00:00",
          "2023-03-25T00:00:00+00:00",
          "2023-03-26T00:00:00+00:00",
          "2023-03-27T00:00:00+00:00",
          "2023-03-28T00:00:00+00:00",
          "2023-03-29T00:00:00+00:00",
          "2023-03-30T00:00:00+00:00",
          "2023-03-31T00:00:00+00:00",
          "2023-04-01T00:00:00+00:00",
          "2023-04-02T00:00:00+00:00",
          "2023-04-03T00:00:00+00:00",
          "2023-04-04T00:00:00+00:00",
          "2023-04-05T00:00:00+00:00",
          "2023-04-06T00:00:00+00:00",
          "2023-04-07T00:00:00+00:00",
          "2023-04-08T00:00:00+00:00",
          "2023-04-09T00:00:00+00:00",
          "2023-04-10T00:00:00+00:00",
          "2023-04-11T00:00:00+00:00",
          "2023-04-12T00:00:00+00:00",
          "2023-04-13T00:00:00+00:00",
          "2023-04-14T00:00:00+00:00",
          "2023-04-15T00:00:00+00:00",
          "2023-04-16T00:00:00+00:00",
          "2023-04-17T00:00:00+00:00",
          "2023-04-18T00:00:00+00:00",
          "2023-04-19T00:00:00+00:00",
          "2023-04-20T00:00:00+00:00",
          "2023-04-21T00:00:00+00:00",
          "2023-04-22T00:00:00+00:00",
          "2023-04-23T00:00:00+00:00",
          "2023-04-24T00:00:00+00:00",
          "2023-04-25T00:00:00+00:00",
          "2023-04-26T00:00:00+00:00",
          "2023-04-27T00:00:00+00:00",
          "2023-04-28T00:00:00+00:00",
          "2023-04-29T00:00:00+00:00",
          "2023-04-30T00:00:00+00:00",
          "2023-05-01T00:00:00+00:00",
          "2023-05-02T00:00:00+00:00",
          "2023-05-03T00:00:00+00:00",
          "2023-05-04T00:00:00+00:00",
          "2023-05-05T00:00:00+00:00",
          "2023-05-06T00:00:00+00:00",
          "2023-05-07T00:00:00+00:00",
          "2023-05-08T00:00:00+00:00",
          "2023-05-09T00:00:00+00:00",
          "2023-05-10T00:00:00+00:00",
          "2023-05-11T00:00:00+00:00",
          "2023-05-12T00:00:00+00:00",
          "2023-05-13T00:00:00+00:00",
          "2023-05-14T00:00:00+00:00",
          "2023-05-15T00:00:00+00:00",
          "2023-05-16T00:00:00+00:00",
          "2023-05-17T00:00:00+00:00",
          "2023-05-18T00:00:00+00:00",
          "2023-05-19T00:00:00+00:00",
          "2023-05-20T00:00:00+00:00",
          "2023-05-21T00:00:00+00:00",
          "2023-05-22T00:00:00+00:00",
          "2023-05-23T00:00:00+00:00",
          "2023-05-24T00:00:00+00:00",
          "2023-05-25T00:00:00+00:00",
          "2023-05-26T00:00:00+00:00",
          "2023-05-27T00:00:00+00:00",
          "2023-05-28T00:00:00+00:00",
          "2023-05-29T00:00:00+00:00",
          "2023-05-30T00:00:00+00:00",
          "2023-05-31T00:00:00+00:00",
          "2023-06-01T00:00:00+00:00",
          "2023-06-02T00:00:00+00:00",
          "2023-06-03T00:00:00+00:00",
          "2023-06-04T00:00:00+00:00",
          "2023-06-05T00:00:00+00:00",
          "2023-06-06T00:00:00+00:00"
         ],
         "y": [
          null,
          null,
          null,
          null,
          null,
          null,
          31098,
          30963,
          30636,
          31313,
          31277,
          31211,
          31000,
          30606,
          32043,
          32973,
          33011,
          34209,
          35709,
          36977,
          37240,
          36399,
          35498,
          36294,
          34977,
          33431,
          32343,
          32657,
          31855,
          31042,
          30287,
          30648,
          30624,
          30520,
          29824,
          29375,
          29933,
          28571,
          27859,
          27586,
          27099,
          26235,
          26985,
          26026,
          26241,
          26207,
          26299,
          27009,
          28008,
          28300,
          28736,
          29473,
          30538,
          30389,
          29591,
          29060,
          27285,
          26554,
          25263,
          23817,
          23527,
          23604,
          23396,
          23593,
          23503,
          23454,
          23366,
          23310,
          22924,
          22222,
          21726,
          22046,
          21797,
          21972,
          22600,
          21994,
          22398,
          23671,
          25284,
          26245,
          25903,
          25337,
          26581,
          25977
         ]
        },
        {
         "line": {
          "color": "#ffA500",
          "dash": "dash"
         },
         "name": "Unique users",
         "type": "scatter",
         "x": [
          "2023-03-15T00:00:00+00:00",
          "2023-03-16T00:00:00+00:00",
          "2023-03-17T00:00:00+00:00",
          "2023-03-18T00:00:00+00:00",
          "2023-03-19T00:00:00+00:00",
          "2023-03-20T00:00:00+00:00",
          "2023-03-21T00:00:00+00:00",
          "2023-03-22T00:00:00+00:00",
          "2023-03-23T00:00:00+00:00",
          "2023-03-24T00:00:00+00:00",
          "2023-03-25T00:00:00+00:00",
          "2023-03-26T00:00:00+00:00",
          "2023-03-27T00:00:00+00:00",
          "2023-03-28T00:00:00+00:00",
          "2023-03-29T00:00:00+00:00",
          "2023-03-30T00:00:00+00:00",
          "2023-03-31T00:00:00+00:00",
          "2023-04-01T00:00:00+00:00",
          "2023-04-02T00:00:00+00:00",
          "2023-04-03T00:00:00+00:00",
          "2023-04-04T00:00:00+00:00",
          "2023-04-05T00:00:00+00:00",
          "2023-04-06T00:00:00+00:00",
          "2023-04-07T00:00:00+00:00",
          "2023-04-08T00:00:00+00:00",
          "2023-04-09T00:00:00+00:00",
          "2023-04-10T00:00:00+00:00",
          "2023-04-11T00:00:00+00:00",
          "2023-04-12T00:00:00+00:00",
          "2023-04-13T00:00:00+00:00",
          "2023-04-14T00:00:00+00:00",
          "2023-04-15T00:00:00+00:00",
          "2023-04-16T00:00:00+00:00",
          "2023-04-17T00:00:00+00:00",
          "2023-04-18T00:00:00+00:00",
          "2023-04-19T00:00:00+00:00",
          "2023-04-20T00:00:00+00:00",
          "2023-04-21T00:00:00+00:00",
          "2023-04-22T00:00:00+00:00",
          "2023-04-23T00:00:00+00:00",
          "2023-04-24T00:00:00+00:00",
          "2023-04-25T00:00:00+00:00",
          "2023-04-26T00:00:00+00:00",
          "2023-04-27T00:00:00+00:00",
          "2023-04-28T00:00:00+00:00",
          "2023-04-29T00:00:00+00:00",
          "2023-04-30T00:00:00+00:00",
          "2023-05-01T00:00:00+00:00",
          "2023-05-02T00:00:00+00:00",
          "2023-05-03T00:00:00+00:00",
          "2023-05-04T00:00:00+00:00",
          "2023-05-05T00:00:00+00:00",
          "2023-05-06T00:00:00+00:00",
          "2023-05-07T00:00:00+00:00",
          "2023-05-08T00:00:00+00:00",
          "2023-05-09T00:00:00+00:00",
          "2023-05-10T00:00:00+00:00",
          "2023-05-11T00:00:00+00:00",
          "2023-05-12T00:00:00+00:00",
          "2023-05-13T00:00:00+00:00",
          "2023-05-14T00:00:00+00:00",
          "2023-05-15T00:00:00+00:00",
          "2023-05-16T00:00:00+00:00",
          "2023-05-17T00:00:00+00:00",
          "2023-05-18T00:00:00+00:00",
          "2023-05-19T00:00:00+00:00",
          "2023-05-20T00:00:00+00:00",
          "2023-05-21T00:00:00+00:00",
          "2023-05-22T00:00:00+00:00",
          "2023-05-23T00:00:00+00:00",
          "2023-05-24T00:00:00+00:00",
          "2023-05-25T00:00:00+00:00",
          "2023-05-26T00:00:00+00:00",
          "2023-05-27T00:00:00+00:00",
          "2023-05-28T00:00:00+00:00",
          "2023-05-29T00:00:00+00:00",
          "2023-05-30T00:00:00+00:00",
          "2023-05-31T00:00:00+00:00",
          "2023-06-01T00:00:00+00:00",
          "2023-06-02T00:00:00+00:00",
          "2023-06-03T00:00:00+00:00",
          "2023-06-04T00:00:00+00:00",
          "2023-06-05T00:00:00+00:00",
          "2023-06-06T00:00:00+00:00"
         ],
         "y": [
          3300,
          5346,
          6560,
          7411,
          7962,
          8895,
          9960,
          9966,
          9905,
          9922,
          9846,
          9866,
          9787,
          9643,
          10065,
          10152,
          10305,
          10662,
          10945,
          11100,
          11067,
          10767,
          10618,
          10622,
          10336,
          10007,
          9759,
          9801,
          9552,
          9350,
          9207,
          9304,
          9264,
          9307,
          9211,
          9142,
          9266,
          9058,
          8888,
          8867,
          8844,
          8700,
          8867,
          8666,
          8711,
          8720,
          8757,
          8969,
          9164,
          9301,
          9415,
          9519,
          9684,
          9669,
          9444,
          9341,
          8868,
          8643,
          8393,
          8084,
          7997,
          8075,
          8081,
          8154,
          8181,
          8148,
          8132,
          8140,
          7997,
          7866,
          7756,
          7853,
          7838,
          7864,
          8580,
          8510,
          8675,
          8917,
          9328,
          9487,
          9420,
          8789,
          8981,
          8825
         ]
        }
       ],
       "layout": {
        "template": {
         "data": {
          "bar": [
           {
            "error_x": {
             "color": "#2a3f5f"
            },
            "error_y": {
             "color": "#2a3f5f"
            },
            "marker": {
             "line": {
              "color": "#E5ECF6",
              "width": 0.5
             },
             "pattern": {
              "fillmode": "overlay",
              "size": 10,
              "solidity": 0.2
             }
            },
            "type": "bar"
           }
          ],
          "barpolar": [
           {
            "marker": {
             "line": {
              "color": "#E5ECF6",
              "width": 0.5
             },
             "pattern": {
              "fillmode": "overlay",
              "size": 10,
              "solidity": 0.2
             }
            },
            "type": "barpolar"
           }
          ],
          "carpet": [
           {
            "aaxis": {
             "endlinecolor": "#2a3f5f",
             "gridcolor": "white",
             "linecolor": "white",
             "minorgridcolor": "white",
             "startlinecolor": "#2a3f5f"
            },
            "baxis": {
             "endlinecolor": "#2a3f5f",
             "gridcolor": "white",
             "linecolor": "white",
             "minorgridcolor": "white",
             "startlinecolor": "#2a3f5f"
            },
            "type": "carpet"
           }
          ],
          "choropleth": [
           {
            "colorbar": {
             "outlinewidth": 0,
             "ticks": ""
            },
            "type": "choropleth"
           }
          ],
          "contour": [
           {
            "colorbar": {
             "outlinewidth": 0,
             "ticks": ""
            },
            "colorscale": [
             [
              0,
              "#0d0887"
             ],
             [
              0.1111111111111111,
              "#46039f"
             ],
             [
              0.2222222222222222,
              "#7201a8"
             ],
             [
              0.3333333333333333,
              "#9c179e"
             ],
             [
              0.4444444444444444,
              "#bd3786"
             ],
             [
              0.5555555555555556,
              "#d8576b"
             ],
             [
              0.6666666666666666,
              "#ed7953"
             ],
             [
              0.7777777777777778,
              "#fb9f3a"
             ],
             [
              0.8888888888888888,
              "#fdca26"
             ],
             [
              1,
              "#f0f921"
             ]
            ],
            "type": "contour"
           }
          ],
          "contourcarpet": [
           {
            "colorbar": {
             "outlinewidth": 0,
             "ticks": ""
            },
            "type": "contourcarpet"
           }
          ],
          "heatmap": [
           {
            "colorbar": {
             "outlinewidth": 0,
             "ticks": ""
            },
            "colorscale": [
             [
              0,
              "#0d0887"
             ],
             [
              0.1111111111111111,
              "#46039f"
             ],
             [
              0.2222222222222222,
              "#7201a8"
             ],
             [
              0.3333333333333333,
              "#9c179e"
             ],
             [
              0.4444444444444444,
              "#bd3786"
             ],
             [
              0.5555555555555556,
              "#d8576b"
             ],
             [
              0.6666666666666666,
              "#ed7953"
             ],
             [
              0.7777777777777778,
              "#fb9f3a"
             ],
             [
              0.8888888888888888,
              "#fdca26"
             ],
             [
              1,
              "#f0f921"
             ]
            ],
            "type": "heatmap"
           }
          ],
          "heatmapgl": [
           {
            "colorbar": {
             "outlinewidth": 0,
             "ticks": ""
            },
            "colorscale": [
             [
              0,
              "#0d0887"
             ],
             [
              0.1111111111111111,
              "#46039f"
             ],
             [
              0.2222222222222222,
              "#7201a8"
             ],
             [
              0.3333333333333333,
              "#9c179e"
             ],
             [
              0.4444444444444444,
              "#bd3786"
             ],
             [
              0.5555555555555556,
              "#d8576b"
             ],
             [
              0.6666666666666666,
              "#ed7953"
             ],
             [
              0.7777777777777778,
              "#fb9f3a"
             ],
             [
              0.8888888888888888,
              "#fdca26"
             ],
             [
              1,
              "#f0f921"
             ]
            ],
            "type": "heatmapgl"
           }
          ],
          "histogram": [
           {
            "marker": {
             "pattern": {
              "fillmode": "overlay",
              "size": 10,
              "solidity": 0.2
             }
            },
            "type": "histogram"
           }
          ],
          "histogram2d": [
           {
            "colorbar": {
             "outlinewidth": 0,
             "ticks": ""
            },
            "colorscale": [
             [
              0,
              "#0d0887"
             ],
             [
              0.1111111111111111,
              "#46039f"
             ],
             [
              0.2222222222222222,
              "#7201a8"
             ],
             [
              0.3333333333333333,
              "#9c179e"
             ],
             [
              0.4444444444444444,
              "#bd3786"
             ],
             [
              0.5555555555555556,
              "#d8576b"
             ],
             [
              0.6666666666666666,
              "#ed7953"
             ],
             [
              0.7777777777777778,
              "#fb9f3a"
             ],
             [
              0.8888888888888888,
              "#fdca26"
             ],
             [
              1,
              "#f0f921"
             ]
            ],
            "type": "histogram2d"
           }
          ],
          "histogram2dcontour": [
           {
            "colorbar": {
             "outlinewidth": 0,
             "ticks": ""
            },
            "colorscale": [
             [
              0,
              "#0d0887"
             ],
             [
              0.1111111111111111,
              "#46039f"
             ],
             [
              0.2222222222222222,
              "#7201a8"
             ],
             [
              0.3333333333333333,
              "#9c179e"
             ],
             [
              0.4444444444444444,
              "#bd3786"
             ],
             [
              0.5555555555555556,
              "#d8576b"
             ],
             [
              0.6666666666666666,
              "#ed7953"
             ],
             [
              0.7777777777777778,
              "#fb9f3a"
             ],
             [
              0.8888888888888888,
              "#fdca26"
             ],
             [
              1,
              "#f0f921"
             ]
            ],
            "type": "histogram2dcontour"
           }
          ],
          "mesh3d": [
           {
            "colorbar": {
             "outlinewidth": 0,
             "ticks": ""
            },
            "type": "mesh3d"
           }
          ],
          "parcoords": [
           {
            "line": {
             "colorbar": {
              "outlinewidth": 0,
              "ticks": ""
             }
            },
            "type": "parcoords"
           }
          ],
          "pie": [
           {
            "automargin": true,
            "type": "pie"
           }
          ],
          "scatter": [
           {
            "fillpattern": {
             "fillmode": "overlay",
             "size": 10,
             "solidity": 0.2
            },
            "type": "scatter"
           }
          ],
          "scatter3d": [
           {
            "line": {
             "colorbar": {
              "outlinewidth": 0,
              "ticks": ""
             }
            },
            "marker": {
             "colorbar": {
              "outlinewidth": 0,
              "ticks": ""
             }
            },
            "type": "scatter3d"
           }
          ],
          "scattercarpet": [
           {
            "marker": {
             "colorbar": {
              "outlinewidth": 0,
              "ticks": ""
             }
            },
            "type": "scattercarpet"
           }
          ],
          "scattergeo": [
           {
            "marker": {
             "colorbar": {
              "outlinewidth": 0,
              "ticks": ""
             }
            },
            "type": "scattergeo"
           }
          ],
          "scattergl": [
           {
            "marker": {
             "colorbar": {
              "outlinewidth": 0,
              "ticks": ""
             }
            },
            "type": "scattergl"
           }
          ],
          "scattermapbox": [
           {
            "marker": {
             "colorbar": {
              "outlinewidth": 0,
              "ticks": ""
             }
            },
            "type": "scattermapbox"
           }
          ],
          "scatterpolar": [
           {
            "marker": {
             "colorbar": {
              "outlinewidth": 0,
              "ticks": ""
             }
            },
            "type": "scatterpolar"
           }
          ],
          "scatterpolargl": [
           {
            "marker": {
             "colorbar": {
              "outlinewidth": 0,
              "ticks": ""
             }
            },
            "type": "scatterpolargl"
           }
          ],
          "scatterternary": [
           {
            "marker": {
             "colorbar": {
              "outlinewidth": 0,
              "ticks": ""
             }
            },
            "type": "scatterternary"
           }
          ],
          "surface": [
           {
            "colorbar": {
             "outlinewidth": 0,
             "ticks": ""
            },
            "colorscale": [
             [
              0,
              "#0d0887"
             ],
             [
              0.1111111111111111,
              "#46039f"
             ],
             [
              0.2222222222222222,
              "#7201a8"
             ],
             [
              0.3333333333333333,
              "#9c179e"
             ],
             [
              0.4444444444444444,
              "#bd3786"
             ],
             [
              0.5555555555555556,
              "#d8576b"
             ],
             [
              0.6666666666666666,
              "#ed7953"
             ],
             [
              0.7777777777777778,
              "#fb9f3a"
             ],
             [
              0.8888888888888888,
              "#fdca26"
             ],
             [
              1,
              "#f0f921"
             ]
            ],
            "type": "surface"
           }
          ],
          "table": [
           {
            "cells": {
             "fill": {
              "color": "#EBF0F8"
             },
             "line": {
              "color": "white"
             }
            },
            "header": {
             "fill": {
              "color": "#C8D4E3"
             },
             "line": {
              "color": "white"
             }
            },
            "type": "table"
           }
          ]
         },
         "layout": {
          "annotationdefaults": {
           "arrowcolor": "#2a3f5f",
           "arrowhead": 0,
           "arrowwidth": 1
          },
          "autotypenumbers": "strict",
          "coloraxis": {
           "colorbar": {
            "outlinewidth": 0,
            "ticks": ""
           }
          },
          "colorscale": {
           "diverging": [
            [
             0,
             "#8e0152"
            ],
            [
             0.1,
             "#c51b7d"
            ],
            [
             0.2,
             "#de77ae"
            ],
            [
             0.3,
             "#f1b6da"
            ],
            [
             0.4,
             "#fde0ef"
            ],
            [
             0.5,
             "#f7f7f7"
            ],
            [
             0.6,
             "#e6f5d0"
            ],
            [
             0.7,
             "#b8e186"
            ],
            [
             0.8,
             "#7fbc41"
            ],
            [
             0.9,
             "#4d9221"
            ],
            [
             1,
             "#276419"
            ]
           ],
           "sequential": [
            [
             0,
             "#0d0887"
            ],
            [
             0.1111111111111111,
             "#46039f"
            ],
            [
             0.2222222222222222,
             "#7201a8"
            ],
            [
             0.3333333333333333,
             "#9c179e"
            ],
            [
             0.4444444444444444,
             "#bd3786"
            ],
            [
             0.5555555555555556,
             "#d8576b"
            ],
            [
             0.6666666666666666,
             "#ed7953"
            ],
            [
             0.7777777777777778,
             "#fb9f3a"
            ],
            [
             0.8888888888888888,
             "#fdca26"
            ],
            [
             1,
             "#f0f921"
            ]
           ],
           "sequentialminus": [
            [
             0,
             "#0d0887"
            ],
            [
             0.1111111111111111,
             "#46039f"
            ],
            [
             0.2222222222222222,
             "#7201a8"
            ],
            [
             0.3333333333333333,
             "#9c179e"
            ],
            [
             0.4444444444444444,
             "#bd3786"
            ],
            [
             0.5555555555555556,
             "#d8576b"
            ],
            [
             0.6666666666666666,
             "#ed7953"
            ],
            [
             0.7777777777777778,
             "#fb9f3a"
            ],
            [
             0.8888888888888888,
             "#fdca26"
            ],
            [
             1,
             "#f0f921"
            ]
           ]
          },
          "colorway": [
           "#636efa",
           "#EF553B",
           "#00cc96",
           "#ab63fa",
           "#FFA15A",
           "#19d3f3",
           "#FF6692",
           "#B6E880",
           "#FF97FF",
           "#FECB52"
          ],
          "font": {
           "color": "#2a3f5f"
          },
          "geo": {
           "bgcolor": "white",
           "lakecolor": "white",
           "landcolor": "#E5ECF6",
           "showlakes": true,
           "showland": true,
           "subunitcolor": "white"
          },
          "hoverlabel": {
           "align": "left"
          },
          "hovermode": "closest",
          "mapbox": {
           "style": "light"
          },
          "paper_bgcolor": "white",
          "plot_bgcolor": "#E5ECF6",
          "polar": {
           "angularaxis": {
            "gridcolor": "white",
            "linecolor": "white",
            "ticks": ""
           },
           "bgcolor": "#E5ECF6",
           "radialaxis": {
            "gridcolor": "white",
            "linecolor": "white",
            "ticks": ""
           }
          },
          "scene": {
           "xaxis": {
            "backgroundcolor": "#E5ECF6",
            "gridcolor": "white",
            "gridwidth": 2,
            "linecolor": "white",
            "showbackground": true,
            "ticks": "",
            "zerolinecolor": "white"
           },
           "yaxis": {
            "backgroundcolor": "#E5ECF6",
            "gridcolor": "white",
            "gridwidth": 2,
            "linecolor": "white",
            "showbackground": true,
            "ticks": "",
            "zerolinecolor": "white"
           },
           "zaxis": {
            "backgroundcolor": "#E5ECF6",
            "gridcolor": "white",
            "gridwidth": 2,
            "linecolor": "white",
            "showbackground": true,
            "ticks": "",
            "zerolinecolor": "white"
           }
          },
          "shapedefaults": {
           "line": {
            "color": "#2a3f5f"
           }
          },
          "ternary": {
           "aaxis": {
            "gridcolor": "white",
            "linecolor": "white",
            "ticks": ""
           },
           "baxis": {
            "gridcolor": "white",
            "linecolor": "white",
            "ticks": ""
           },
           "bgcolor": "#E5ECF6",
           "caxis": {
            "gridcolor": "white",
            "linecolor": "white",
            "ticks": ""
           }
          },
          "title": {
           "x": 0.05
          },
          "xaxis": {
           "automargin": true,
           "gridcolor": "white",
           "linecolor": "white",
           "ticks": "",
           "title": {
            "standoff": 15
           },
           "zerolinecolor": "white",
           "zerolinewidth": 2
          },
          "yaxis": {
           "automargin": true,
           "gridcolor": "white",
           "linecolor": "white",
           "ticks": "",
           "title": {
            "standoff": 15
           },
           "zerolinecolor": "white",
           "zerolinewidth": 2
          }
         }
        },
        "title": {
         "text": "7 days"
        }
       }
      }
     },
     "metadata": {},
     "output_type": "display_data"
    }
   ],
   "source": [
    "fig"
   ]
  },
  {
   "cell_type": "code",
   "execution_count": 39,
   "metadata": {},
   "outputs": [
    {
     "data": {
      "text/plain": [
       "(Timestamp('2023-03-15 00:00:00+0000', tz='UTC'),\n",
       " Timestamp('2023-03-16 00:00:00+0000', tz='UTC'),\n",
       " Timestamp('2023-03-17 00:00:00+0000', tz='UTC'),\n",
       " Timestamp('2023-03-18 00:00:00+0000', tz='UTC'),\n",
       " Timestamp('2023-03-19 00:00:00+0000', tz='UTC'),\n",
       " Timestamp('2023-03-20 00:00:00+0000', tz='UTC'),\n",
       " Timestamp('2023-03-21 00:00:00+0000', tz='UTC'),\n",
       " Timestamp('2023-03-22 00:00:00+0000', tz='UTC'),\n",
       " Timestamp('2023-03-23 00:00:00+0000', tz='UTC'),\n",
       " Timestamp('2023-03-24 00:00:00+0000', tz='UTC'),\n",
       " Timestamp('2023-03-25 00:00:00+0000', tz='UTC'),\n",
       " Timestamp('2023-03-26 00:00:00+0000', tz='UTC'),\n",
       " Timestamp('2023-03-27 00:00:00+0000', tz='UTC'),\n",
       " Timestamp('2023-03-28 00:00:00+0000', tz='UTC'),\n",
       " Timestamp('2023-03-29 00:00:00+0000', tz='UTC'),\n",
       " Timestamp('2023-03-30 00:00:00+0000', tz='UTC'),\n",
       " Timestamp('2023-03-31 00:00:00+0000', tz='UTC'),\n",
       " Timestamp('2023-04-01 00:00:00+0000', tz='UTC'),\n",
       " Timestamp('2023-04-02 00:00:00+0000', tz='UTC'),\n",
       " Timestamp('2023-04-03 00:00:00+0000', tz='UTC'),\n",
       " Timestamp('2023-04-04 00:00:00+0000', tz='UTC'),\n",
       " Timestamp('2023-04-05 00:00:00+0000', tz='UTC'),\n",
       " Timestamp('2023-04-06 00:00:00+0000', tz='UTC'),\n",
       " Timestamp('2023-04-07 00:00:00+0000', tz='UTC'),\n",
       " Timestamp('2023-04-08 00:00:00+0000', tz='UTC'),\n",
       " Timestamp('2023-04-09 00:00:00+0000', tz='UTC'),\n",
       " Timestamp('2023-04-10 00:00:00+0000', tz='UTC'),\n",
       " Timestamp('2023-04-11 00:00:00+0000', tz='UTC'),\n",
       " Timestamp('2023-04-12 00:00:00+0000', tz='UTC'),\n",
       " Timestamp('2023-04-13 00:00:00+0000', tz='UTC'),\n",
       " Timestamp('2023-04-14 00:00:00+0000', tz='UTC'),\n",
       " Timestamp('2023-04-15 00:00:00+0000', tz='UTC'),\n",
       " Timestamp('2023-04-16 00:00:00+0000', tz='UTC'),\n",
       " Timestamp('2023-04-17 00:00:00+0000', tz='UTC'),\n",
       " Timestamp('2023-04-18 00:00:00+0000', tz='UTC'),\n",
       " Timestamp('2023-04-19 00:00:00+0000', tz='UTC'),\n",
       " Timestamp('2023-04-20 00:00:00+0000', tz='UTC'),\n",
       " Timestamp('2023-04-21 00:00:00+0000', tz='UTC'),\n",
       " Timestamp('2023-04-22 00:00:00+0000', tz='UTC'),\n",
       " Timestamp('2023-04-23 00:00:00+0000', tz='UTC'),\n",
       " Timestamp('2023-04-24 00:00:00+0000', tz='UTC'),\n",
       " Timestamp('2023-04-25 00:00:00+0000', tz='UTC'),\n",
       " Timestamp('2023-04-26 00:00:00+0000', tz='UTC'),\n",
       " Timestamp('2023-04-27 00:00:00+0000', tz='UTC'),\n",
       " Timestamp('2023-04-28 00:00:00+0000', tz='UTC'),\n",
       " Timestamp('2023-04-29 00:00:00+0000', tz='UTC'),\n",
       " Timestamp('2023-04-30 00:00:00+0000', tz='UTC'),\n",
       " Timestamp('2023-05-01 00:00:00+0000', tz='UTC'),\n",
       " Timestamp('2023-05-02 00:00:00+0000', tz='UTC'),\n",
       " Timestamp('2023-05-03 00:00:00+0000', tz='UTC'),\n",
       " Timestamp('2023-05-04 00:00:00+0000', tz='UTC'),\n",
       " Timestamp('2023-05-05 00:00:00+0000', tz='UTC'),\n",
       " Timestamp('2023-05-06 00:00:00+0000', tz='UTC'),\n",
       " Timestamp('2023-05-07 00:00:00+0000', tz='UTC'),\n",
       " Timestamp('2023-05-08 00:00:00+0000', tz='UTC'),\n",
       " Timestamp('2023-05-09 00:00:00+0000', tz='UTC'),\n",
       " Timestamp('2023-05-10 00:00:00+0000', tz='UTC'),\n",
       " Timestamp('2023-05-11 00:00:00+0000', tz='UTC'),\n",
       " Timestamp('2023-05-12 00:00:00+0000', tz='UTC'),\n",
       " Timestamp('2023-05-13 00:00:00+0000', tz='UTC'),\n",
       " Timestamp('2023-05-14 00:00:00+0000', tz='UTC'),\n",
       " Timestamp('2023-05-15 00:00:00+0000', tz='UTC'),\n",
       " Timestamp('2023-05-16 00:00:00+0000', tz='UTC'),\n",
       " Timestamp('2023-05-17 00:00:00+0000', tz='UTC'),\n",
       " Timestamp('2023-05-18 00:00:00+0000', tz='UTC'),\n",
       " Timestamp('2023-05-19 00:00:00+0000', tz='UTC'),\n",
       " Timestamp('2023-05-20 00:00:00+0000', tz='UTC'),\n",
       " Timestamp('2023-05-21 00:00:00+0000', tz='UTC'),\n",
       " Timestamp('2023-05-22 00:00:00+0000', tz='UTC'),\n",
       " Timestamp('2023-05-23 00:00:00+0000', tz='UTC'),\n",
       " Timestamp('2023-05-24 00:00:00+0000', tz='UTC'),\n",
       " Timestamp('2023-05-25 00:00:00+0000', tz='UTC'),\n",
       " Timestamp('2023-05-26 00:00:00+0000', tz='UTC'),\n",
       " Timestamp('2023-05-27 00:00:00+0000', tz='UTC'),\n",
       " Timestamp('2023-05-28 00:00:00+0000', tz='UTC'),\n",
       " Timestamp('2023-05-29 00:00:00+0000', tz='UTC'),\n",
       " Timestamp('2023-05-30 00:00:00+0000', tz='UTC'),\n",
       " Timestamp('2023-05-31 00:00:00+0000', tz='UTC'),\n",
       " Timestamp('2023-06-01 00:00:00+0000', tz='UTC'),\n",
       " Timestamp('2023-06-02 00:00:00+0000', tz='UTC'),\n",
       " Timestamp('2023-06-03 00:00:00+0000', tz='UTC'),\n",
       " Timestamp('2023-06-04 00:00:00+0000', tz='UTC'),\n",
       " Timestamp('2023-06-05 00:00:00+0000', tz='UTC'),\n",
       " Timestamp('2023-06-06 00:00:00+0000', tz='UTC'))"
      ]
     },
     "execution_count": 39,
     "metadata": {},
     "output_type": "execute_result"
    }
   ],
   "source": [
    "fig.data[0][\"x\"]"
   ]
  },
  {
   "cell_type": "code",
   "execution_count": 36,
   "metadata": {},
   "outputs": [
    {
     "data": {
      "image/png": "[encoded data removed]",
      "text/plain": [
       "<Figure size 640x480 with 1 Axes>"
      ]
     },
     "metadata": {},
     "output_type": "display_data"
    }
   ],
   "source": [
    "import matplotlib.pyplot as plt\n",
    "\n",
    "pan = plt.plot(list(rolled.index), list(rolled.Engagements),  list(rolled.index), list(rolled.Unique_users))\n",
    "plt.show()"
   ]
  },
  {
   "cell_type": "code",
   "execution_count": 34,
   "metadata": {},
   "outputs": [
    {
     "name": "stdout",
     "output_type": "stream",
     "text": [
      "Engagements\n"
     ]
    }
   ],
   "source": []
  }
 ],
 "metadata": {
  "kernelspec": {
   "display_name": "venv_shiny",
   "language": "python",
   "name": "python3"
  },
  "language_info": {
   "codemirror_mode": {
    "name": "ipython",
    "version": 3
   },
   "file_extension": ".py",
   "mimetype": "text/x-python",
   "name": "python",
   "nbconvert_exporter": "python",
   "pygments_lexer": "ipython3",
   "version": "3.10.0"
  },
  "orig_nbformat": 4
 },
 "nbformat": 4,
 "nbformat_minor": 2
}
