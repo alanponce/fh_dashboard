{
 "cells": [
  {
   "cell_type": "code",
   "execution_count": 16,
   "metadata": {},
   "outputs": [],
   "source": [
    "import pandas as pd "
   ]
  },
  {
   "cell_type": "code",
   "execution_count": 17,
   "metadata": {},
   "outputs": [
    {
     "name": "stderr",
     "output_type": "stream",
     "text": [
      "C:\\Users\\cecym\\AppData\\Local\\Temp\\ipykernel_9888\\183257791.py:3: DtypeWarning: Columns (7,8,9,10) have mixed types. Specify dtype option on import or set low_memory=False.\n",
      "  df = pd.read_csv(path_to_csv)\n"
     ]
    }
   ],
   "source": [
    "#read the data\n",
    "path_to_csv = \"data/data_20230606.csv\"\n",
    "df = pd.read_csv(path_to_csv)"
   ]
  },
  {
   "cell_type": "code",
   "execution_count": 19,
   "metadata": {},
   "outputs": [],
   "source": [
    "def get_engagement_list_2(df, start_date , end_data):\n",
    "  \"\"\"\n",
    "  df: DataFrame\n",
    "  start_date: date in 'YYYY-MM-DD'\n",
    "  end_data : date in 'YYYY-MM-DD'\n",
    "  return dataframe: engagement lists filtered between the date specified and the loockback.\n",
    "  \"\"\"\n",
    "  ds = df.copy()\n",
    "  #Change data type\n",
    "  ds['EventDateTime'] = pd.to_datetime(ds['EventDateTime'])\n",
    "\n",
    "  # Apply the masks to the DataFrame\n",
    "  engagement_list = ds[ds[\"EventDateTime\"].between(start_date, end_data )]\n",
    "  engagement_list = engagement_list.reset_index(drop=True)\n",
    "\n",
    "  #Convert times to midnight\n",
    "  engagement_list['EventDateTime'] = pd.to_datetime(engagement_list['EventDateTime'].dt.normalize())\n",
    "  return engagement_list"
   ]
  },
  {
   "cell_type": "code",
   "execution_count": 21,
   "metadata": {},
   "outputs": [
    {
     "name": "stdout",
     "output_type": "stream",
     "text": [
      "   UserId             EventDateTime Language   Age UserMaritalStatus  \\\n",
      "0  811113 2023-03-16 00:00:00+00:00  SPANISH  43.0           MARRIED   \n",
      "1  797677 2023-03-16 00:00:00+00:00  SPANISH  49.0           MARRIED   \n",
      "2  627720 2023-03-16 00:00:00+00:00  SPANISH  29.0            SINGLE   \n",
      "3  968298 2023-03-16 00:00:00+00:00  SPANISH  38.0            SINGLE   \n",
      "4  586348 2023-03-16 00:00:00+00:00  SPANISH  43.0           MARRIED   \n",
      "\n",
      "  UserState UserGender CurrentPlatform CurrentType Platform Version  \\\n",
      "0        TX       MALE             NaN         NaN      NaN     NaN   \n",
      "1        TX       MALE             NaN         NaN      NaN     NaN   \n",
      "2        NY       MALE             NaN         NaN      NaN     NaN   \n",
      "3        NY       MALE             NaN         NaN      NaN     NaN   \n",
      "4        CA       MALE             NaN         NaN      NaN     NaN   \n",
      "\n",
      "  Mobile_Device  \n",
      "0           iOS  \n",
      "1       Android  \n",
      "2       Android  \n",
      "3           iOS  \n",
      "4           iOS  \n",
      "        UserId             EventDateTime Language   Age UserMaritalStatus  \\\n",
      "321323  612886 2023-06-02 00:00:00+00:00  SPANISH  30.0            SINGLE   \n",
      "321324  999987 2023-06-02 00:00:00+00:00  SPANISH  45.0            SINGLE   \n",
      "321325  581845 2023-06-02 00:00:00+00:00  SPANISH  42.0            SINGLE   \n",
      "321326  343518 2023-06-02 00:00:00+00:00  SPANISH  42.0            SINGLE   \n",
      "321327  435427 2023-06-02 00:00:00+00:00  SPANISH  26.0           MARRIED   \n",
      "\n",
      "       UserState UserGender CurrentPlatform CurrentType Platform Version  \\\n",
      "321323        TX     FEMALE             NaN         NaN      NaN     NaN   \n",
      "321324        TX       MALE             NaN         NaN      NaN     NaN   \n",
      "321325        CA     FEMALE             NaN         NaN      NaN     NaN   \n",
      "321326        WI       MALE             NaN         NaN      NaN     NaN   \n",
      "321327        CA       MALE             NaN         NaN      NaN     NaN   \n",
      "\n",
      "       Mobile_Device  \n",
      "321323           iOS  \n",
      "321324           NaN  \n",
      "321325       Android  \n",
      "321326       Android  \n",
      "321327       Android  \n"
     ]
    }
   ],
   "source": [
    "result= get_engagement_list_2(df, \"2023-03-16\", \"2023-06-03\")\n",
    "print(result.head(5))\n",
    "print(result.tail(5))"
   ]
  }
 ],
 "metadata": {
  "language_info": {
   "name": "python"
  },
  "orig_nbformat": 4
 },
 "nbformat": 4,
 "nbformat_minor": 2
}
