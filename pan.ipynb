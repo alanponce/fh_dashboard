{
 "cells": [
  {
   "cell_type": "code",
   "execution_count": 1,
   "metadata": {},
   "outputs": [],
   "source": [
    "from shiny import App, render, ui\n",
    "from shiny import reactive\n",
    "import numpy as np\n",
    "import pandas  as pd \n",
    "from shinywidgets import output_widget, register_widget\n",
    "\n",
    "from functions.functions_data import get_global_daily, get_rolling, get_rolling_values\n",
    "from functions.functions_graphics import plot_engagements_users, plot_metrics\n",
    "from functions.functions_data import get_engagement_list_v2"
   ]
  },
  {
   "cell_type": "code",
   "execution_count": 5,
   "metadata": {},
   "outputs": [
    {
     "name": "stderr",
     "output_type": "stream",
     "text": [
      "C:\\Users\\cecym\\AppData\\Local\\Temp\\ipykernel_10624\\515949445.py:5: DtypeWarning: Columns (7,8,9,10) have mixed types. Specify dtype option on import or set low_memory=False.\n",
      "  df = pd.read_csv(path_to_csv, parse_dates=['EventDateTime'])\n"
     ]
    }
   ],
   "source": [
    "#import the data\n",
    "def load_data():\n",
    "    #read the data\n",
    "    path_to_csv = \"data/data_20230606.csv\"\n",
    "    df = pd.read_csv(path_to_csv, parse_dates=['EventDateTime'], dtype={'CurrentPlatform': str,\n",
    "                                                                        'CurrentType': str,\n",
    "                                                                        'Platform': str,\n",
    "                                                                        'Version': str})\n",
    "    #change data type\n",
    "    df['EventDateTime'] = pd.to_datetime(df['EventDateTime'])\n",
    "\n",
    "    #Abreviaturas de los estados de USA\n",
    "    df_states = pd.read_csv(\"data/abreviaturas_USA.csv\")\n",
    "\n",
    "    return df, df_states\n",
    "\n",
    "#call the funcion load_data\n",
    "df, df_states = load_data()\n",
    "#create a copy \n",
    "df_filter = df.copy()\n"
   ]
  },
  {
   "cell_type": "code",
   "execution_count": 6,
   "metadata": {},
   "outputs": [
    {
     "name": "stdout",
     "output_type": "stream",
     "text": [
      "<class 'pandas.core.frame.DataFrame'>\n",
      "RangeIndex: 338721 entries, 0 to 338720\n",
      "Data columns (total 12 columns):\n",
      " #   Column             Non-Null Count   Dtype              \n",
      "---  ------             --------------   -----              \n",
      " 0   UserId             338721 non-null  int64              \n",
      " 1   EventDateTime      338721 non-null  datetime64[ns, UTC]\n",
      " 2   Language           338721 non-null  object             \n",
      " 3   Age                331094 non-null  float64            \n",
      " 4   UserMaritalStatus  331092 non-null  object             \n",
      " 5   UserState          337414 non-null  object             \n",
      " 6   UserGender         331092 non-null  object             \n",
      " 7   CurrentPlatform    11567 non-null   object             \n",
      " 8   CurrentType        11567 non-null   object             \n",
      " 9   Platform           11532 non-null   object             \n",
      " 10  Version            11532 non-null   object             \n",
      " 11  Mobile_Device      266192 non-null  object             \n",
      "dtypes: datetime64[ns, UTC](1), float64(1), int64(1), object(9)\n",
      "memory usage: 31.0+ MB\n"
     ]
    }
   ],
   "source": [
    "df.info()"
   ]
  }
 ],
 "metadata": {
  "kernelspec": {
   "display_name": ".venv",
   "language": "python",
   "name": "python3"
  },
  "language_info": {
   "codemirror_mode": {
    "name": "ipython",
    "version": 3
   },
   "file_extension": ".py",
   "mimetype": "text/x-python",
   "name": "python",
   "nbconvert_exporter": "python",
   "pygments_lexer": "ipython3",
   "version": "3.10.0"
  },
  "orig_nbformat": 4
 },
 "nbformat": 4,
 "nbformat_minor": 2
}
